{
 "cells": [
  {
   "cell_type": "code",
   "execution_count": 9,
   "id": "45d22d4c-dcc9-4935-9b9c-1afd53624118",
   "metadata": {},
   "outputs": [
    {
     "name": "stdin",
     "output_type": "stream",
     "text": [
      "Enter your current balance:  60\n",
      "Type 'a' to add money and 's' to subtract:  a\n",
      "Type amount of money you are adding:  7\n"
     ]
    },
    {
     "ename": "TypeError",
     "evalue": "unsupported operand type(s) for +: 'int' and 'function'",
     "output_type": "error",
     "traceback": [
      "\u001b[1;31m---------------------------------------------------------------------------\u001b[0m",
      "\u001b[1;31mTypeError\u001b[0m                                 Traceback (most recent call last)",
      "Cell \u001b[1;32mIn[9], line 21\u001b[0m\n\u001b[0;32m     19\u001b[0m             subtract()\n\u001b[0;32m     20\u001b[0m     add_subtract()\n\u001b[1;32m---> 21\u001b[0m balance()\n",
      "Cell \u001b[1;32mIn[9], line 20\u001b[0m, in \u001b[0;36mbalance\u001b[1;34m()\u001b[0m\n\u001b[0;32m     18\u001b[0m         \u001b[38;5;28mprint\u001b[39m(result2)\n\u001b[0;32m     19\u001b[0m         subtract()\n\u001b[1;32m---> 20\u001b[0m add_subtract()\n",
      "Cell \u001b[1;32mIn[9], line 10\u001b[0m, in \u001b[0;36mbalance.<locals>.add_subtract\u001b[1;34m()\u001b[0m\n\u001b[0;32m      8\u001b[0m \u001b[38;5;28;01mdef\u001b[39;00m \u001b[38;5;21madd\u001b[39m(current_balance, add):\n\u001b[0;32m      9\u001b[0m     \u001b[38;5;28;01mreturn\u001b[39;00m current_balance \u001b[38;5;241m+\u001b[39m add\n\u001b[1;32m---> 10\u001b[0m result1 \u001b[38;5;241m=\u001b[39m add(current_balance, add)\n\u001b[0;32m     11\u001b[0m \u001b[38;5;28mprint\u001b[39m(result1)\n\u001b[0;32m     12\u001b[0m add()\n",
      "Cell \u001b[1;32mIn[9], line 9\u001b[0m, in \u001b[0;36mbalance.<locals>.add_subtract.<locals>.add\u001b[1;34m(current_balance, add)\u001b[0m\n\u001b[0;32m      8\u001b[0m \u001b[38;5;28;01mdef\u001b[39;00m \u001b[38;5;21madd\u001b[39m(current_balance, add):\n\u001b[1;32m----> 9\u001b[0m     \u001b[38;5;28;01mreturn\u001b[39;00m current_balance \u001b[38;5;241m+\u001b[39m add\n",
      "\u001b[1;31mTypeError\u001b[0m: unsupported operand type(s) for +: 'int' and 'function'"
     ]
    }
   ],
   "source": [
    "# Have user enter current balance\\n\",\n",
    "def balance():\n",
    "    current_balance = int(input(\"Enter your current balance: \"))\n",
    "    def add_subtract():\n",
    "        money = input(\"Type 'a' to add money and 's' to subtract: \")\n",
    "        if 'a' in money:\n",
    "            add = int(input(\"Type amount of money you are adding: \"))\n",
    "            def add(current_balance, add):\n",
    "                return current_balance + add\n",
    "            result1 = add(current_balance, add)\n",
    "            print(result1)\n",
    "            add()\n",
    "        else:\n",
    "            subtract = int(input(\"Type amount you are subtracting: \"))\n",
    "            def subtract(current_balance, subtract):\n",
    "                return current_balance - subtract\n",
    "            result2 = subtract(current_balance, subtract)\n",
    "            print(result2)\n",
    "            subtract()\n",
    "    add_subtract()\n",
    "balance()"
   ]
  },
  {
   "cell_type": "code",
   "execution_count": 11,
   "id": "f5946edd-eeb3-46c9-8b71-f6047487f630",
   "metadata": {},
   "outputs": [
    {
     "name": "stdout",
     "output_type": "stream",
     "text": [
      "Balance: 1500\n"
     ]
    },
    {
     "name": "stdin",
     "output_type": "stream",
     "text": [
      "Please enter current blance:  700\n",
      "Type 'a' to add money and 's' to subtract:  s\n",
      "Type amount you are subtracting:  8\n"
     ]
    },
    {
     "name": "stdout",
     "output_type": "stream",
     "text": [
      "New balance after subtracting: 692\n",
      "Final balance saved to file: 692\n"
     ]
    }
   ],
   "source": [
    "def balance():\n",
    "    # Read balance from file\n",
    "    with open('balance.txt', 'r') as file:\n",
    "        data = file.read()\n",
    "        print(f\"Balance: {data}\")\n",
    "\n",
    "    current_balance = int(input(\"Please enter current blance: \"))\n",
    "\n",
    "    # Update the balance in file\n",
    "    with open('balance.txt', 'w') as file:\n",
    "        file.write(str(f\"Current balance: (current_balance)\"))  # New balance\n",
    "\n",
    "    # User input to add or subtract money\n",
    "    def add_subtract(current_balance):\n",
    "        action = input(\"Type 'a' to add money and 's' to subtract: \")\n",
    "\n",
    "        if action == 'a':\n",
    "            add_amount = int(input(\"Type amount of money you are adding: \"))\n",
    "            current_balance += add_amount\n",
    "            print(f\"New balance after adding: {current_balance}\")\n",
    "\n",
    "        elif action == 's':\n",
    "            subtract_amount = int(input(\"Type amount you are subtracting: \"))\n",
    "            current_balance -= subtract_amount\n",
    "            print(f\"New balance after subtracting: {current_balance}\")\n",
    "\n",
    "        else:\n",
    "            print(\"Invalid option. Please only type 'a' or 's'.\")\n",
    "\n",
    "        return current_balance\n",
    "\n",
    "    current_balance = add_subtract(current_balance)\n",
    "\n",
    "    # Saved new balance to file\n",
    "    with open('balance.txt', 'w') as file:\n",
    "        file.write(str(current_balance))\n",
    "    print(f\"Final balance saved to file: {current_balance}\")\n",
    "\n",
    "balance()\n"
   ]
  },
  {
   "cell_type": "code",
   "execution_count": 7,
   "id": "8b8cc6b4-8cfd-4c64-ab70-f2f61bcf5042",
   "metadata": {},
   "outputs": [
    {
     "name": "stdout",
     "output_type": "stream",
     "text": [
      "Balance in file: 1000\n",
      "Your current: 1000\n"
     ]
    },
    {
     "name": "stdin",
     "output_type": "stream",
     "text": [
      "Type 'a' to add money and 's' to subtract:  s\n",
      "Type amount you are subtracting:  90\n"
     ]
    },
    {
     "name": "stdout",
     "output_type": "stream",
     "text": [
      "New balance after subtracting: 910\n"
     ]
    }
   ],
   "source": [
    "def balance():\n",
    "     # Read balance from file\n",
    "    with open('balance.txt', 'r') as file:\n",
    "        data = file.read()\n",
    "        print(f\"Balance in file: {data}\")\n",
    "        \n",
    "    # Upload balance in file\n",
    "    try:\n",
    "        with open('balance.txt', 'r') as file:\n",
    "            current_balance = int(file.read())\n",
    "            print(f\"Your current: {current_balance}\")\n",
    "    except FileNotFoundError:\n",
    "        current_balance = int(input(\"Enter your current balance: \"))\n",
    "\n",
    "    def save_balance():\n",
    "        with open('balance.txt', 'w') as file:\n",
    "            file.write(str(current_balance))\n",
    "        print(f\"Balance saved: {current_balance}\")\n",
    "\n",
    "    def add_subtract():\n",
    "        nonlocal current_balance  # Allows modification of current_balance\n",
    "        action = input(\"Type 'a' to add money and 's' to subtract: \")\n",
    "\n",
    "        if action == 'a':\n",
    "            add_amount = int(input(\"Type amount of money you are adding: \"))\n",
    "            current_balance += add_amount\n",
    "            print(f\"New balance after adding: {current_balance}\")\n",
    "\n",
    "        elif action == 's':\n",
    "            subtract_amount = int(input(\"Type amount you are subtracting: \"))\n",
    "            current_balance -= subtract_amount\n",
    "            print(f\"New balance after subtracting: {current_balance}\")\n",
    "\n",
    "        else:\n",
    "            print(\"Invalid option. Please choose 'a' or 's'.\")\n",
    "\n",
    "        # Save the updated balance to a file\n",
    "\n",
    "    add_subtract()\n",
    "\n",
    "balance()"
   ]
  },
  {
   "cell_type": "code",
   "execution_count": null,
   "id": "8e50b3f3-b5a1-41b3-9c40-3f6084b59683",
   "metadata": {},
   "outputs": [],
   "source": [
    "def balance():\n",
    "    # Read balance from file\n",
    "    with open('balance.txt', 'r') as file:\n",
    "        data = file.read()\n",
    "        print(f\"Balance in file: {data}\")\n",
    "\n",
    "    current_balance = int(input(\"Enter current balance: \"))\n",
    "\n",
    "    # Update the balance in the file\n",
    "    with open('balance.txt', 'w') as file:\n",
    "        file.write(str(current_balance))  # Write the new balance\n",
    "\n",
    "    def add_subtract(current_balance):\n",
    "        action = input(\"Type 'a' to add money and 's' to subtract: \")\n",
    "\n",
    "        if action == 'a':\n",
    "            add_amount = int(input(\"Type amount of money you are adding: \"))\n",
    "            current_balance += add_amount\n",
    "            print(f\"New balance after adding: {current_balance}\")\n",
    "\n",
    "        elif action == 's':\n",
    "            subtract_amount = int(input(\"Type amount you are subtracting: \"))\n",
    "            current_balance -= subtract_amount\n",
    "            print(f\"New balance after subtracting: {current_balance}\")\n",
    "\n",
    "        else:\n",
    "            print(\"Invalid option. Please choose 'a' or 's'.\")\n",
    "\n",
    "        return current_balance\n",
    "\n",
    "    current_balance = add_subtract(current_balance)\n",
    "\n",
    "    # Save the updated balance to the file\n",
    "    with open('balance.txt', 'w') as file:\n",
    "        file.write(str(current_balance))\n",
    "    print(f\"Final balance saved to file: {current_balance}\")\n",
    "\n",
    "balance()\n"
   ]
  }
 ],
 "metadata": {
  "kernelspec": {
   "display_name": "Python 3 (ipykernel)",
   "language": "python",
   "name": "python3"
  },
  "language_info": {
   "codemirror_mode": {
    "name": "ipython",
    "version": 3
   },
   "file_extension": ".py",
   "mimetype": "text/x-python",
   "name": "python",
   "nbconvert_exporter": "python",
   "pygments_lexer": "ipython3",
   "version": "3.12.4"
  }
 },
 "nbformat": 4,
 "nbformat_minor": 5
}
